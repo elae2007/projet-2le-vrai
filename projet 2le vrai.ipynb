{
 "cells": [
  {
   "cell_type": "code",
   "execution_count": 24,
   "id": "4ebfd5bb",
   "metadata": {},
   "outputs": [
    {
     "name": "stdout",
     "output_type": "stream",
     "text": [
      "Input length of the countdown in seconds : 9\n",
      "0mins-0secs \r"
     ]
    },
    {
     "data": {
      "text/plain": [
       "'Fire in the hole'"
      ]
     },
     "execution_count": 24,
     "metadata": {},
     "output_type": "execute_result"
    }
   ],
   "source": [
    "import pyaudio \n",
    "import wave\n",
    "import time\n",
    "t=int(input(\"Input length of the countdown in seconds : \")) \n",
    "paused = False    # global to track if the audio is paused\n",
    "# you audio here\n",
    "wf = wave.open('music.wav', 'rb')  \n",
    "\n",
    "# instantiate PyAudio\n",
    "p = pyaudio.PyAudio()\n",
    "\n",
    "# define callback\n",
    "def callback(in_data, frame_count, time_info, status):\n",
    "    data = wf.readframes(frame_count)\n",
    "    return (data, pyaudio.paContinue)\n",
    "\n",
    "# open stream using callback\n",
    "stream = p.open(format=p.get_format_from_width(wf.getsampwidth()),\n",
    "                channels=wf.getnchannels(), \n",
    "                rate=wf.getframerate(),\n",
    "                output=True,\n",
    "                stream_callback=callback) \n",
    "def countdown(t):\n",
    "    while t>=0:\n",
    "            mins,secs=divmod(t,60)\n",
    "            timer=\"{0}mins-{1}secs\".format(mins,secs)\n",
    "            print(timer,end=' \\r')\n",
    "            time.sleep(1)\n",
    "            t-=1\n",
    "            # start the stream\n",
    "            stream.start_stream()\n",
    "    return \"Fire in the hole\"\n",
    "if t==0:\n",
    "    print(\"Hey,repeat again\")\n",
    "else:\n",
    "    newcoutdown=countdown(t)\n",
    "# stop stream\n",
    "stream.stop_stream()      \n",
    "stream.close()   \n",
    "wf.close()\n",
    "# close PyAudio\n",
    "newcoutdown\n"
   ]
  },
  {
   "cell_type": "code",
   "execution_count": null,
   "id": "94fa7b11",
   "metadata": {},
   "outputs": [],
   "source": []
  },
  {
   "cell_type": "code",
   "execution_count": null,
   "id": "72983534",
   "metadata": {},
   "outputs": [],
   "source": []
  },
  {
   "cell_type": "code",
   "execution_count": null,
   "id": "4cab0b99",
   "metadata": {},
   "outputs": [],
   "source": []
  }
 ],
 "metadata": {
  "kernelspec": {
   "display_name": "Python 3",
   "language": "python",
   "name": "python3"
  },
  "language_info": {
   "codemirror_mode": {
    "name": "ipython",
    "version": 3
   },
   "file_extension": ".py",
   "mimetype": "text/x-python",
   "name": "python",
   "nbconvert_exporter": "python",
   "pygments_lexer": "ipython3",
   "version": "3.8.8"
  }
 },
 "nbformat": 4,
 "nbformat_minor": 5
}
